{
  "nbformat": 4,
  "nbformat_minor": 0,
  "metadata": {
    "kernelspec": {
      "display_name": "Python 3",
      "language": "python",
      "name": "python3"
    },
    "language_info": {
      "codemirror_mode": {
        "name": "ipython",
        "version": 3
      },
      "file_extension": ".py",
      "mimetype": "text/x-python",
      "name": "python",
      "nbconvert_exporter": "python",
      "pygments_lexer": "ipython3",
      "version": "3.6.3"
    },
    "colab": {
      "name": "Implement U-Net.ipynb",
      "provenance": [],
      "collapsed_sections": [],
      "include_colab_link": true
    }
  },
  "cells": [
    {
      "cell_type": "markdown",
      "metadata": {
        "id": "view-in-github",
        "colab_type": "text"
      },
      "source": [
        "<a href=\"https://colab.research.google.com/github/hardik0/AI-for-Medicine-Specialization/blob/master/AI-for-Medical-Diagnosis/Week-3/Implement_U_Net.ipynb\" target=\"_parent\"><img src=\"https://colab.research.google.com/assets/colab-badge.svg\" alt=\"Open In Colab\"/></a>"
      ]
    },
    {
      "cell_type": "markdown",
      "metadata": {
        "id": "sIZJQoG1HaZQ",
        "colab_type": "text"
      },
      "source": [
        "# AI4M Course 1 week 3 lecture notebook"
      ]
    },
    {
      "cell_type": "markdown",
      "metadata": {
        "id": "iJX3OR1UHaZS",
        "colab_type": "text"
      },
      "source": [
        "## U-Net model\n",
        "In this week's assignment, you'll be using a network architecture called \"U-Net\". The name of this network architecture comes from it's U-like shape when shown in a diagram like this (image from [U-net entry on wikipedia](https://en.wikipedia.org/wiki/U-Net)): \n",
        "\n",
        "<img src=\"https://raw.githubusercontent.com/hardik0/AI-for-Medicine-Specialization/master/AI-for-Medical-Diagnosis/Week-3/U-net_example_wikipedia.png\" alt=\"U-net Image\" width=\"600\"/>\n",
        "\n",
        "U-nets are commonly used for image segmentation, which will be your task in the upcoming assignment. You won't actually need to implement U-Net in the assignment, but we wanted to give you an opportunity to gain some familiarity with this architecture here before you use it in the assignment. \n",
        "\n",
        "As you can see from the diagram, this architecture features a series of down-convolutions connected by max-pooling operations, followed by a series of up-convolutions connected by upsampling and concatenation operations. Each of the down-convolutions is also connected directly to the concatenation operations in the upsampling portion of the network. For more detail on the U-Net architecture, have a look at the original [U-Net paper by Ronneberger et al. 2015](https://arxiv.org/abs/1505.04597). \n",
        "\n",
        "In this lab, you'll create a basic U-Net using Keras. "
      ]
    },
    {
      "cell_type": "code",
      "metadata": {
        "id": "z9cuMgNjNdit",
        "colab_type": "code",
        "outputId": "ffb51c3c-88c7-4663-b78c-264c1f5f9e92",
        "colab": {
          "base_uri": "https://localhost:8080/",
          "height": 136
        }
      },
      "source": [
        "!git clone https://github.com/hardik0/AI-for-Medicine-Specialization\n",
        "%cd AI-for-Medicine-Specialization/AI-for-Medical-Diagnosis/"
      ],
      "execution_count": 0,
      "outputs": [
        {
          "output_type": "stream",
          "text": [
            "Cloning into 'AI-for-Medicine-Specialization'...\n",
            "remote: Enumerating objects: 1573, done.\u001b[K\n",
            "remote: Total 1573 (delta 0), reused 0 (delta 0), pack-reused 1573\u001b[K\n",
            "Receiving objects: 100% (1573/1573), 714.63 MiB | 33.01 MiB/s, done.\n",
            "Resolving deltas: 100% (21/21), done.\n",
            "Checking out files: 100% (1492/1492), done.\n",
            "/content/AI-for-Medicine-Specialization/AI-for-Medical-Diagnosis\n"
          ],
          "name": "stdout"
        }
      ]
    },
    {
      "cell_type": "code",
      "metadata": {
        "id": "EMe71Bg0HaZT",
        "colab_type": "code",
        "colab": {}
      },
      "source": [
        "# Import the elements you'll need to build your U-Net\n",
        "import keras\n",
        "from keras import backend as K\n",
        "from keras.engine import Input, Model\n",
        "from keras.layers import Conv3D, MaxPooling3D, UpSampling3D, Activation, BatchNormalization, PReLU, Deconvolution3D\n",
        "from keras.optimizers import Adam\n",
        "from keras.layers.merge import concatenate\n",
        "# Set the image shape to have the channels in the first dimension\n",
        "K.set_image_data_format(\"channels_first\")"
      ],
      "execution_count": 0,
      "outputs": []
    },
    {
      "cell_type": "code",
      "metadata": {
        "id": "EfKOD3G_L_4W",
        "colab_type": "code",
        "colab": {}
      },
      "source": [
        "# AttributeError: module 'tensorflow_core._api.v2.config' has no attribute 'experimental_list_devices' - If this error occurs then run this cell\n",
        "import tensorflow as tf\n",
        "import keras.backend.tensorflow_backend as tfback\n",
        "\n",
        "def _get_available_gpus():\n",
        "    \"\"\"Get a list of available gpu devices (formatted as strings).\n",
        "\n",
        "    # Returns\n",
        "        A list of available GPU devices.\n",
        "    \"\"\"\n",
        "    #global _LOCAL_DEVICES\n",
        "    if tfback._LOCAL_DEVICES is None:\n",
        "        devices = tf.config.list_logical_devices()\n",
        "        tfback._LOCAL_DEVICES = [x.name for x in devices]\n",
        "    return [x for x in tfback._LOCAL_DEVICES if 'device:gpu' in x.lower()]\n",
        "\n",
        "tfback._get_available_gpus = _get_available_gpus"
      ],
      "execution_count": 0,
      "outputs": []
    },
    {
      "cell_type": "markdown",
      "metadata": {
        "id": "zNNeTwwvHaZZ",
        "colab_type": "text"
      },
      "source": [
        "### The \"depth\" of your U-Net\n",
        "The \"depth\" of your U-Net is equal to the number of down-convolutions you will use. In the image above, the depth is 4 because there are 4 down-convolutions running down the left side including the very bottom of the U.\n",
        "\n",
        "For this exercise, you'll use a U-Net depth of 2, meaning you'll have 2 down-convolutions in your network. "
      ]
    },
    {
      "cell_type": "markdown",
      "metadata": {
        "id": "oaGtg-XuHaZa",
        "colab_type": "text"
      },
      "source": [
        "### Input layer and its \"depth\"\n",
        "\n",
        "In this lab and in the assignment, you will be doing 3D image segmentation, which is to say that, in addition to \"height\" and \"width\", your input layer will also have a \"length\". We are deliberately using the word \"length\" instead of \"depth\" here to describe the third spatial dimension of the input so as not to confuse it with the depth of the network as defined above.\n",
        "\n",
        "The shape of the input layer is `(num_channels, height, width, length)`, where `num_channels` you can think of like color channels in an image, `height`, `width` and `length` are just the size of the input.\n",
        "\n",
        "For the assignment, the values will be:\n",
        "- num_channels: 4\n",
        "- height: 160\n",
        "- width: 160\n",
        "- length: 16"
      ]
    },
    {
      "cell_type": "code",
      "metadata": {
        "id": "k719qx8LHaZb",
        "colab_type": "code",
        "outputId": "7558ffae-8eb1-41ed-e84a-e5e0e4d0adc8",
        "colab": {
          "base_uri": "https://localhost:8080/",
          "height": 34
        }
      },
      "source": [
        "# Define an input layer tensor of the shape you'll use in the assignment\n",
        "input_layer = Input(shape=(4, 160, 160, 16))\n",
        "input_layer"
      ],
      "execution_count": 0,
      "outputs": [
        {
          "output_type": "execute_result",
          "data": {
            "text/plain": [
              "<tf.Tensor 'input_4:0' shape=(None, 4, 160, 160, 16) dtype=float32>"
            ]
          },
          "metadata": {
            "tags": []
          },
          "execution_count": 21
        }
      ]
    },
    {
      "cell_type": "markdown",
      "metadata": {
        "id": "4MBa-4u0HaZe",
        "colab_type": "text"
      },
      "source": [
        "Notice that the tensor shape has a '?' or 'None' as the very first dimension.  This will be the batch size. So the dimensions of the tensor are: (batch_size, num_channels, height, width, length)"
      ]
    },
    {
      "cell_type": "markdown",
      "metadata": {
        "id": "d9Lp3-81HaZf",
        "colab_type": "text"
      },
      "source": [
        "## Contracting (downward) path \n",
        "Here you'll start by constructing the downward path in your network (the left side of the U-Net).  The `(height, width, length)` of the input gets smaller as you move down this path, and the number of channels increases.\n",
        "\n",
        "### Depth 0\n",
        "\n",
        "By \"depth 0\" here, we're referring to the depth of the first down-convolution in the U-net.\n",
        "\n",
        "The number of filters is specified for each depth and for each layer within that depth.\n",
        "\n",
        "The formula to use for calculating the number of filters is:\n",
        "$$filters_{i} = 32 \\times (2^{i})$$\n",
        "\n",
        "Where $i$ is the current depth.\n",
        "\n",
        "So at depth $i=0$:\n",
        "$$filters_{0} = 32 \\times (2^{0}) = 32$$\n",
        "\n",
        "### Layer 0\n",
        "There are two convolutional layers for each depth"
      ]
    },
    {
      "cell_type": "markdown",
      "metadata": {
        "id": "Oc9rFzQ1HaZg",
        "colab_type": "text"
      },
      "source": [
        "Run the next cell to create the first 3D convolution"
      ]
    },
    {
      "cell_type": "code",
      "metadata": {
        "id": "JrT5jeusHaZg",
        "colab_type": "code",
        "outputId": "77af8a72-4b4c-4f8b-ed83-1c01ecac63f3",
        "colab": {
          "base_uri": "https://localhost:8080/",
          "height": 34
        }
      },
      "source": [
        "# Define a Conv3D tensor with 32 filters\n",
        "down_depth_0_layer_0 = Conv3D(filters=32, \n",
        "                              kernel_size=(3,3,3),\n",
        "                              padding='same',\n",
        "                              strides=(1,1,1)\n",
        "                              )(input_layer)\n",
        "down_depth_0_layer_0"
      ],
      "execution_count": 0,
      "outputs": [
        {
          "output_type": "execute_result",
          "data": {
            "text/plain": [
              "<tf.Tensor 'conv3d_8/add:0' shape=(None, 32, 160, 160, 16) dtype=float32>"
            ]
          },
          "metadata": {
            "tags": []
          },
          "execution_count": 26
        }
      ]
    },
    {
      "cell_type": "markdown",
      "metadata": {
        "id": "YvDrAgh4HaZk",
        "colab_type": "text"
      },
      "source": [
        "Notice that with 32 filters, the result you get above is a tensor with 32 channels.\n",
        "\n",
        "Run the next cell to add a relu activation to the first convolutional layer"
      ]
    },
    {
      "cell_type": "code",
      "metadata": {
        "id": "JxKGWUXsHaZk",
        "colab_type": "code",
        "outputId": "9f264897-3103-4860-f05b-5e961d0b6d68",
        "colab": {
          "base_uri": "https://localhost:8080/",
          "height": 34
        }
      },
      "source": [
        "# Add a relu activation to layer 0 of depth 0\n",
        "down_depth_0_layer_0 = Activation('relu')(down_depth_0_layer_0)\n",
        "down_depth_0_layer_0"
      ],
      "execution_count": 0,
      "outputs": [
        {
          "output_type": "execute_result",
          "data": {
            "text/plain": [
              "<tf.Tensor 'activation_1/Relu:0' shape=(None, 32, 160, 160, 16) dtype=float32>"
            ]
          },
          "metadata": {
            "tags": []
          },
          "execution_count": 27
        }
      ]
    },
    {
      "cell_type": "markdown",
      "metadata": {
        "id": "_olv4NJtHaZo",
        "colab_type": "text"
      },
      "source": [
        "### Depth 0, Layer 1\n",
        "For layer 1 of depth 0, the formula for calculating the number of filters is:\n",
        "$$filters_{i} = 32 \\times (2^{i}) \\times 2$$\n",
        "\n",
        "Where $i$ is the current depth. \n",
        "- Notice that the '$\\times~2$' at the end of this expression isn't there for layer 0.\n",
        "\n",
        "\n",
        "So at depth $i=0$ for layer 1:\n",
        "$$filters_{0} = 32 \\times (2^{0}) \\times 2 = 64$$\n"
      ]
    },
    {
      "cell_type": "code",
      "metadata": {
        "id": "8gg6fJ4rHaZo",
        "colab_type": "code",
        "outputId": "3201676d-ebc6-4082-e3c9-0aa0d7b42fe4",
        "colab": {
          "base_uri": "https://localhost:8080/",
          "height": 34
        }
      },
      "source": [
        "# Create a Conv3D layer with 64 filters and add relu activation\n",
        "down_depth_0_layer_1 = Conv3D(filters=64, \n",
        "                kernel_size=(3,3,3),\n",
        "                padding='same',\n",
        "                strides=(1,1,1)\n",
        "               )(down_depth_0_layer_0)\n",
        "down_depth_0_layer_1 = Activation('relu')(down_depth_0_layer_1)\n",
        "down_depth_0_layer_1"
      ],
      "execution_count": 0,
      "outputs": [
        {
          "output_type": "execute_result",
          "data": {
            "text/plain": [
              "<tf.Tensor 'activation_2/Relu:0' shape=(None, 64, 160, 160, 16) dtype=float32>"
            ]
          },
          "metadata": {
            "tags": []
          },
          "execution_count": 28
        }
      ]
    },
    {
      "cell_type": "markdown",
      "metadata": {
        "id": "Ne7BLwvTHaZs",
        "colab_type": "text"
      },
      "source": [
        "### Max pooling\n",
        "Within the U-Net architecture, there is a max pooling operation after each of the down-convolutions (not including the last down-convolution at the bottom of the U). In general, this means you'll add max pooling after each down-convolution up to (but not including) the `depth - 1` down-convolution (since you started counting at 0). \n",
        "\n",
        "For this lab exercise:\n",
        "- The overall depth of the U-Net you're constructing is 2\n",
        "- So the bottom of your U is at a depth index of: $2-1 = 1$.\n",
        "- So far you've only defined the $depth=0$ down-convolutions, so the next thing to do is add max pooling"
      ]
    },
    {
      "cell_type": "markdown",
      "metadata": {
        "id": "vdYM9P6aHaZt",
        "colab_type": "text"
      },
      "source": [
        "Run the next cell to add a max pooling operation to your U-Net"
      ]
    },
    {
      "cell_type": "code",
      "metadata": {
        "id": "XLtV-0HxHaZu",
        "colab_type": "code",
        "outputId": "be3c8e5c-59e8-4c38-d6f7-aa226bdaad14",
        "colab": {
          "base_uri": "https://localhost:8080/",
          "height": 34
        }
      },
      "source": [
        "# Define a max pooling layer\n",
        "down_depth_0_layer_pool = MaxPooling3D(pool_size=(2,2,2))(down_depth_0_layer_1)\n",
        "down_depth_0_layer_pool"
      ],
      "execution_count": 0,
      "outputs": [
        {
          "output_type": "execute_result",
          "data": {
            "text/plain": [
              "<tf.Tensor 'max_pooling3d_1/transpose_1:0' shape=(None, 64, 80, 80, 8) dtype=float32>"
            ]
          },
          "metadata": {
            "tags": []
          },
          "execution_count": 29
        }
      ]
    },
    {
      "cell_type": "markdown",
      "metadata": {
        "id": "7XHbgGvWHaZx",
        "colab_type": "text"
      },
      "source": [
        "### Depth 1, Layer 0\n",
        "\n",
        "At depth 1, layer 0, the formula for calculating the number of filters is:\n",
        "$$filters_{i} = 32 \\times (2^{i})$$\n",
        "\n",
        "Where $i$ is the current depth.\n",
        "\n",
        "So at depth $i=1$:\n",
        "$$filters_{1} = 32 \\times (2^{1}) = 64$$\n",
        "\n",
        "Run the next cell to add a Conv3D layer to your network with relu activation"
      ]
    },
    {
      "cell_type": "code",
      "metadata": {
        "id": "jRFO_mP-HaZy",
        "colab_type": "code",
        "outputId": "4bb1df51-85b6-4fe4-ca15-5d1e979d88e9",
        "colab": {
          "base_uri": "https://localhost:8080/",
          "height": 34
        }
      },
      "source": [
        "# Add a Conv3D layer to your network with relu activation\n",
        "down_depth_1_layer_0 = Conv3D(filters=64, \n",
        "                kernel_size=(3,3,3),\n",
        "                padding='same',\n",
        "                strides=(1,1,1)\n",
        "               )(down_depth_0_layer_pool)\n",
        "down_depth_1_layer_0 = Activation('relu')(down_depth_1_layer_0)\n",
        "down_depth_1_layer_0"
      ],
      "execution_count": 0,
      "outputs": [
        {
          "output_type": "execute_result",
          "data": {
            "text/plain": [
              "<tf.Tensor 'activation_4/Relu:0' shape=(None, 64, 80, 80, 8) dtype=float32>"
            ]
          },
          "metadata": {
            "tags": []
          },
          "execution_count": 31
        }
      ]
    },
    {
      "cell_type": "markdown",
      "metadata": {
        "id": "wNkAqCU5HaZ1",
        "colab_type": "text"
      },
      "source": [
        "### Depth 1,  Layer 1\n",
        "\n",
        "For layer 1 of depth 1 the formula you'll use for number of filters is:\n",
        "$$filters_{i} = 32 \\times (2^{i}) \\times 2$$\n",
        "\n",
        "Where $i$ is the current depth. \n",
        "- Notice that the '$\\times 2$' at the end of this expression isn't there for layer 0.\n",
        "\n",
        "So at depth $i=1$:\n",
        "$$filters_{0} = 32 \\times (2^{1}) \\times 2 = 128$$\n",
        "\n",
        "Run the next cell to add another Conv3D with 128 filters to your network."
      ]
    },
    {
      "cell_type": "code",
      "metadata": {
        "id": "aSIG2bu6HaZ1",
        "colab_type": "code",
        "outputId": "a003ea6e-0044-4e8d-a23e-32d613951726",
        "colab": {
          "base_uri": "https://localhost:8080/",
          "height": 34
        }
      },
      "source": [
        "# Add another Conv3D with 128 filters to your network.\n",
        "down_depth_1_layer_1 = Conv3D(filters=128, \n",
        "                kernel_size=(3,3,3),\n",
        "                padding='same',\n",
        "                strides=(1,1,1)\n",
        "               )(down_depth_1_layer_0)\n",
        "down_depth_1_layer_1 = Activation('relu')(down_depth_1_layer_1)\n",
        "down_depth_1_layer_1"
      ],
      "execution_count": 0,
      "outputs": [
        {
          "output_type": "execute_result",
          "data": {
            "text/plain": [
              "<tf.Tensor 'activation_5/Relu:0' shape=(None, 128, 80, 80, 8) dtype=float32>"
            ]
          },
          "metadata": {
            "tags": []
          },
          "execution_count": 32
        }
      ]
    },
    {
      "cell_type": "markdown",
      "metadata": {
        "id": "vtkgYAd9HaZ5",
        "colab_type": "text"
      },
      "source": [
        "### No max pooling at depth 1 (the bottom of the U)\n",
        "\n",
        "When you get to the \"bottom\" of the U-net, you don't need to apply max pooling after the convolutions."
      ]
    },
    {
      "cell_type": "markdown",
      "metadata": {
        "id": "BMdoozLwHaZ5",
        "colab_type": "text"
      },
      "source": [
        "## Expanding  (upward) Path\n",
        "\n",
        "Now you'll work on the expanding path of the U-Net, (going up on the right side, when viewing the diagram).  The image's (height, width, length) all get larger in the expanding path.\n",
        "\n",
        "### Depth 0, Up sampling layer 0\n",
        "\n",
        "You'll use a pool size of (2,2,2) for upsampling.\n",
        "- This is the default value for [tf.keras.layers.UpSampling3D](https://www.tensorflow.org/api_docs/python/tf/keras/layers/UpSampling3D)\n",
        "- As input to the upsampling at depth 1, you'll use the last layer of the downsampling.  In this case, it's the depth 1 layer 1.\n",
        "\n",
        "Run the next cell to add an upsampling operation to your network. \n",
        "Note that you're not adding any activation to this upsampling layer."
      ]
    },
    {
      "cell_type": "code",
      "metadata": {
        "id": "cMGcaezhHaZ6",
        "colab_type": "code",
        "outputId": "616846a2-2a08-4436-b483-4dd7d3333620",
        "colab": {
          "base_uri": "https://localhost:8080/",
          "height": 34
        }
      },
      "source": [
        "# Add an upsampling operation to your network\n",
        "up_depth_0_layer_0 = UpSampling3D(size=(2,2,2))(down_depth_1_layer_1)\n",
        "up_depth_0_layer_0"
      ],
      "execution_count": 0,
      "outputs": [
        {
          "output_type": "execute_result",
          "data": {
            "text/plain": [
              "<tf.Tensor 'up_sampling3d_1/concat_2:0' shape=(None, 128, 160, 160, 16) dtype=float32>"
            ]
          },
          "metadata": {
            "tags": []
          },
          "execution_count": 33
        }
      ]
    },
    {
      "cell_type": "markdown",
      "metadata": {
        "id": "UBhZvg-eHaaB",
        "colab_type": "text"
      },
      "source": [
        "### Concatenate upsampled depth 0 with downsampled depth 0\n",
        "\n",
        "Now you'll apply a concatenation operation using the layers that are both at the same depth of 0.\n",
        "- up_depth_0_layer_0: shape is (?, 128, 160, 160, 16)\n",
        "- depth_0_layer_1: shape is (?, 64, 160, 160, 16)\n",
        "\n",
        "- Double check that both of these layers have the same height, width and length.\n",
        "- If they're the same, then they can be concatenated along axis 1 (the channel axis).\n",
        "- The (height, width, length) is (160, 160, 16) for both.\n",
        "\n",
        "Run the next cell to check that the layers you wish to concatenate have the same height, width and length."
      ]
    },
    {
      "cell_type": "code",
      "metadata": {
        "id": "scqEuMk6HaaC",
        "colab_type": "code",
        "outputId": "630e5b56-1c5f-4f53-be3e-8e2f115d743d",
        "colab": {
          "base_uri": "https://localhost:8080/",
          "height": 68
        }
      },
      "source": [
        "# Print the shape of layers to concatenate\n",
        "print(up_depth_0_layer_0)\n",
        "print()\n",
        "print(down_depth_0_layer_1)"
      ],
      "execution_count": 0,
      "outputs": [
        {
          "output_type": "stream",
          "text": [
            "Tensor(\"up_sampling3d_1/concat_2:0\", shape=(None, 128, 160, 160, 16), dtype=float32)\n",
            "\n",
            "Tensor(\"activation_2/Relu:0\", shape=(None, 64, 160, 160, 16), dtype=float32)\n"
          ],
          "name": "stdout"
        }
      ]
    },
    {
      "cell_type": "markdown",
      "metadata": {
        "id": "o_qjQyGZHaaF",
        "colab_type": "text"
      },
      "source": [
        "Run the next cell to add a concatenation operation to your network"
      ]
    },
    {
      "cell_type": "code",
      "metadata": {
        "id": "1T5-YthKHaaF",
        "colab_type": "code",
        "outputId": "fc1e0023-ab8d-4ce4-f831-53c652d1a7bc",
        "colab": {
          "base_uri": "https://localhost:8080/",
          "height": 34
        }
      },
      "source": [
        "# Add a concatenation along axis 1\n",
        "up_depth_1_concat = concatenate([up_depth_0_layer_0,\n",
        "                                 down_depth_0_layer_1],\n",
        "                                axis=1)\n",
        "up_depth_1_concat"
      ],
      "execution_count": 0,
      "outputs": [
        {
          "output_type": "execute_result",
          "data": {
            "text/plain": [
              "<tf.Tensor 'concatenate_1/concat:0' shape=(None, 192, 160, 160, 16) dtype=float32>"
            ]
          },
          "metadata": {
            "tags": []
          },
          "execution_count": 35
        }
      ]
    },
    {
      "cell_type": "markdown",
      "metadata": {
        "id": "r0-pV1SoHaaJ",
        "colab_type": "text"
      },
      "source": [
        "Notice that the upsampling layer had 128 channels, and the down-convolution layer had 64 channels so that when concatenated, the result has 128 + 64 = 192 channels."
      ]
    },
    {
      "cell_type": "markdown",
      "metadata": {
        "id": "DSnYTobxHaaK",
        "colab_type": "text"
      },
      "source": [
        "### Up-convolution layer 1\n",
        "\n",
        "The number of filters for this layer will be set to the number of channels in the down-convolution's layer 1 at the same depth of 0 (down_depth_0_layer_1).\n",
        "\n",
        "Run the next cell to have a look at the shape of the down-convolution depth 0 layer 1"
      ]
    },
    {
      "cell_type": "code",
      "metadata": {
        "id": "wYQOqjHWHaaK",
        "colab_type": "code",
        "outputId": "0f4e8d49-cf8b-4c53-ae25-c9ab9fd67b8a",
        "colab": {
          "base_uri": "https://localhost:8080/",
          "height": 34
        }
      },
      "source": [
        "down_depth_0_layer_1"
      ],
      "execution_count": 0,
      "outputs": [
        {
          "output_type": "execute_result",
          "data": {
            "text/plain": [
              "<tf.Tensor 'activation_2/Relu:0' shape=(None, 64, 160, 160, 16) dtype=float32>"
            ]
          },
          "metadata": {
            "tags": []
          },
          "execution_count": 36
        }
      ]
    },
    {
      "cell_type": "markdown",
      "metadata": {
        "id": "JmOSiSdWHaaN",
        "colab_type": "text"
      },
      "source": [
        "Notice the number of channels for `depth_0_layer_1` is 64"
      ]
    },
    {
      "cell_type": "code",
      "metadata": {
        "id": "VWbktIlAHaaO",
        "colab_type": "code",
        "outputId": "81153e92-f2a6-436c-f498-ee9812c4da0a",
        "colab": {
          "base_uri": "https://localhost:8080/",
          "height": 34
        }
      },
      "source": [
        "print(f\"number of filters: {down_depth_0_layer_1._keras_shape[1]}\")"
      ],
      "execution_count": 0,
      "outputs": [
        {
          "output_type": "stream",
          "text": [
            "number of filters: 64\n"
          ],
          "name": "stdout"
        }
      ]
    },
    {
      "cell_type": "code",
      "metadata": {
        "id": "Umb-nKzYHaaR",
        "colab_type": "code",
        "outputId": "d43f48f2-dcd2-47ca-b656-c82bec7c1971",
        "colab": {
          "base_uri": "https://localhost:8080/",
          "height": 34
        }
      },
      "source": [
        "# Add a Conv3D up-convolution with 64 filters to your network\n",
        "up_depth_1_layer_1 = Conv3D(filters=64, \n",
        "                            kernel_size=(3,3,3),\n",
        "                            padding='same',\n",
        "                            strides=(1,1,1)\n",
        "                           )(up_depth_1_concat)\n",
        "up_depth_1_layer_1 = Activation('relu')(up_depth_1_layer_1)\n",
        "up_depth_1_layer_1"
      ],
      "execution_count": 0,
      "outputs": [
        {
          "output_type": "execute_result",
          "data": {
            "text/plain": [
              "<tf.Tensor 'activation_7/Relu:0' shape=(None, 64, 160, 160, 16) dtype=float32>"
            ]
          },
          "metadata": {
            "tags": []
          },
          "execution_count": 40
        }
      ]
    },
    {
      "cell_type": "markdown",
      "metadata": {
        "id": "trxstW-5HaaV",
        "colab_type": "text"
      },
      "source": [
        "### Up-convolution depth 0, layer 2\n",
        "\n",
        "At layer 2 of depth 0 in the up-convolution the next step will be to add another up-convolution. The number of filters you'll want to use for this next up-convolution will need to be equal to the number of filters in the down-convolution depth 0 layer 1.\n",
        "\n",
        "Run the next cell to remind yourself of the number of filters in down-convolution depth 0 layer 1."
      ]
    },
    {
      "cell_type": "code",
      "metadata": {
        "id": "Uq-sfcluHaaW",
        "colab_type": "code",
        "outputId": "800b57a7-e21a-4cfb-f21e-0b78194a4a29",
        "colab": {
          "base_uri": "https://localhost:8080/",
          "height": 51
        }
      },
      "source": [
        "print(down_depth_0_layer_1)\n",
        "print(f\"number of filters: {down_depth_0_layer_1._keras_shape[1]}\")"
      ],
      "execution_count": 0,
      "outputs": [
        {
          "output_type": "stream",
          "text": [
            "Tensor(\"activation_2/Relu:0\", shape=(None, 64, 160, 160, 16), dtype=float32)\n",
            "number of filters: 64\n"
          ],
          "name": "stdout"
        }
      ]
    },
    {
      "cell_type": "markdown",
      "metadata": {
        "id": "OAOei4TBHaaa",
        "colab_type": "text"
      },
      "source": [
        "As you can see, the number of channels / filters in `down_depth_0_layer_1` is 64."
      ]
    },
    {
      "cell_type": "markdown",
      "metadata": {
        "id": "p-8iMtCNHaab",
        "colab_type": "text"
      },
      "source": [
        "Run the next cell to add a Conv3D up-convolution with 64 filters to your network."
      ]
    },
    {
      "cell_type": "code",
      "metadata": {
        "id": "9sSxpl2JHaab",
        "colab_type": "code",
        "outputId": "519b7baa-93c4-457d-c299-ed6647fb887d",
        "colab": {
          "base_uri": "https://localhost:8080/",
          "height": 34
        }
      },
      "source": [
        "# Add a Conv3D up-convolution with 64 filters to your network\n",
        "up_depth_1_layer_2 = Conv3D(filters=64, \n",
        "                            kernel_size=(3,3,3),\n",
        "                            padding='same',\n",
        "                            strides=(1,1,1)\n",
        "                           )(up_depth_1_layer_1)\n",
        "up_depth_1_layer_2 = Activation('relu')(up_depth_1_layer_2)\n",
        "up_depth_1_layer_2"
      ],
      "execution_count": 0,
      "outputs": [
        {
          "output_type": "execute_result",
          "data": {
            "text/plain": [
              "<tf.Tensor 'activation_8/Relu:0' shape=(None, 64, 160, 160, 16) dtype=float32>"
            ]
          },
          "metadata": {
            "tags": []
          },
          "execution_count": 42
        }
      ]
    },
    {
      "cell_type": "markdown",
      "metadata": {
        "id": "q46MSoEsHaaf",
        "colab_type": "text"
      },
      "source": [
        "### Final Convolution\n",
        "\n",
        "For the final convolution, you will set the number of filters to be equal to the number of classes in your input data.\n",
        "\n",
        "In the assignment, you will be using data with 3 classes, namely:\n",
        "\n",
        "- 1: edema\n",
        "- 2: non-enhancing tumor \n",
        "- 3: enhancing tumor\n",
        "\n",
        "Run the next cell to add a final Conv3D with 3 filters to your network."
      ]
    },
    {
      "cell_type": "code",
      "metadata": {
        "id": "v3TR-1BJHaaf",
        "colab_type": "code",
        "outputId": "070bd1a2-fd3f-4166-c662-d4866e0d329e",
        "colab": {
          "base_uri": "https://localhost:8080/",
          "height": 34
        }
      },
      "source": [
        "# Add a final Conv3D with 3 filters to your network.\n",
        "final_conv = Conv3D(filters=3, #3 categories \n",
        "                    kernel_size=(1,1,1),\n",
        "                    padding='valid',\n",
        "                    strides=(1,1,1)\n",
        "                    )(up_depth_1_layer_2)\n",
        "final_conv"
      ],
      "execution_count": 0,
      "outputs": [
        {
          "output_type": "execute_result",
          "data": {
            "text/plain": [
              "<tf.Tensor 'conv3d_16/add:0' shape=(None, 3, 160, 160, 16) dtype=float32>"
            ]
          },
          "metadata": {
            "tags": []
          },
          "execution_count": 43
        }
      ]
    },
    {
      "cell_type": "markdown",
      "metadata": {
        "id": "o-4jI_tuHaaj",
        "colab_type": "text"
      },
      "source": [
        "### Activation for final convolution\n",
        "\n",
        "Run the next cell to add a sigmoid activation to your final convolution."
      ]
    },
    {
      "cell_type": "code",
      "metadata": {
        "id": "Y5Vhl3kkHaan",
        "colab_type": "code",
        "outputId": "3c8ef254-de3e-422d-91c9-c926ebd7a9b1",
        "colab": {
          "base_uri": "https://localhost:8080/",
          "height": 34
        }
      },
      "source": [
        "# Add a sigmoid activation to your final convolution.\n",
        "final_activation = Activation('sigmoid')(final_conv)\n",
        "final_activation"
      ],
      "execution_count": 0,
      "outputs": [
        {
          "output_type": "execute_result",
          "data": {
            "text/plain": [
              "<tf.Tensor 'activation_9/Sigmoid:0' shape=(None, 3, 160, 160, 16) dtype=float32>"
            ]
          },
          "metadata": {
            "tags": []
          },
          "execution_count": 44
        }
      ]
    },
    {
      "cell_type": "markdown",
      "metadata": {
        "id": "yHEdXtkmHaaq",
        "colab_type": "text"
      },
      "source": [
        "### Create and compile the model\n",
        "\n",
        "In this example, you will be setting the loss and metrics to options that are pre-built in Keras.  However, in the assignment, you will implement better loss functions and metrics for evaluating the model's performance.\n",
        "\n",
        "Run the next cell to define and compile your model based on the architecture you created above."
      ]
    },
    {
      "cell_type": "code",
      "metadata": {
        "id": "9J4ne8znHaar",
        "colab_type": "code",
        "colab": {}
      },
      "source": [
        "# Define and compile your model\n",
        "model = Model(inputs=input_layer, outputs=final_activation)\n",
        "model.compile(optimizer=Adam(lr=0.00001),\n",
        "              loss='categorical_crossentropy',\n",
        "              metrics=['categorical_accuracy']\n",
        "             )"
      ],
      "execution_count": 0,
      "outputs": []
    },
    {
      "cell_type": "code",
      "metadata": {
        "scrolled": true,
        "id": "aCQvwVOeHaau",
        "colab_type": "code",
        "outputId": "1da39fc1-400a-4db7-c45d-eef70a94470a",
        "colab": {
          "base_uri": "https://localhost:8080/",
          "height": 782
        }
      },
      "source": [
        "# Print out a summary of the model you created\n",
        "model.summary()"
      ],
      "execution_count": 0,
      "outputs": [
        {
          "output_type": "stream",
          "text": [
            "Model: \"model_1\"\n",
            "__________________________________________________________________________________________________\n",
            "Layer (type)                    Output Shape         Param #     Connected to                     \n",
            "==================================================================================================\n",
            "input_4 (InputLayer)            (None, 4, 160, 160,  0                                            \n",
            "__________________________________________________________________________________________________\n",
            "conv3d_8 (Conv3D)               (None, 32, 160, 160, 3488        input_4[0][0]                    \n",
            "__________________________________________________________________________________________________\n",
            "activation_1 (Activation)       (None, 32, 160, 160, 0           conv3d_8[0][0]                   \n",
            "__________________________________________________________________________________________________\n",
            "conv3d_9 (Conv3D)               (None, 64, 160, 160, 55360       activation_1[0][0]               \n",
            "__________________________________________________________________________________________________\n",
            "activation_2 (Activation)       (None, 64, 160, 160, 0           conv3d_9[0][0]                   \n",
            "__________________________________________________________________________________________________\n",
            "max_pooling3d_1 (MaxPooling3D)  (None, 64, 80, 80, 8 0           activation_2[0][0]               \n",
            "__________________________________________________________________________________________________\n",
            "conv3d_11 (Conv3D)              (None, 64, 80, 80, 8 110656      max_pooling3d_1[0][0]            \n",
            "__________________________________________________________________________________________________\n",
            "activation_4 (Activation)       (None, 64, 80, 80, 8 0           conv3d_11[0][0]                  \n",
            "__________________________________________________________________________________________________\n",
            "conv3d_12 (Conv3D)              (None, 128, 80, 80,  221312      activation_4[0][0]               \n",
            "__________________________________________________________________________________________________\n",
            "activation_5 (Activation)       (None, 128, 80, 80,  0           conv3d_12[0][0]                  \n",
            "__________________________________________________________________________________________________\n",
            "up_sampling3d_1 (UpSampling3D)  (None, 128, 160, 160 0           activation_5[0][0]               \n",
            "__________________________________________________________________________________________________\n",
            "concatenate_1 (Concatenate)     (None, 192, 160, 160 0           up_sampling3d_1[0][0]            \n",
            "                                                                 activation_2[0][0]               \n",
            "__________________________________________________________________________________________________\n",
            "conv3d_14 (Conv3D)              (None, 64, 160, 160, 331840      concatenate_1[0][0]              \n",
            "__________________________________________________________________________________________________\n",
            "activation_7 (Activation)       (None, 64, 160, 160, 0           conv3d_14[0][0]                  \n",
            "__________________________________________________________________________________________________\n",
            "conv3d_15 (Conv3D)              (None, 64, 160, 160, 110656      activation_7[0][0]               \n",
            "__________________________________________________________________________________________________\n",
            "activation_8 (Activation)       (None, 64, 160, 160, 0           conv3d_15[0][0]                  \n",
            "__________________________________________________________________________________________________\n",
            "conv3d_16 (Conv3D)              (None, 3, 160, 160,  195         activation_8[0][0]               \n",
            "__________________________________________________________________________________________________\n",
            "activation_9 (Activation)       (None, 3, 160, 160,  0           conv3d_16[0][0]                  \n",
            "==================================================================================================\n",
            "Total params: 833,507\n",
            "Trainable params: 833,507\n",
            "Non-trainable params: 0\n",
            "__________________________________________________________________________________________________\n"
          ],
          "name": "stdout"
        }
      ]
    },
    {
      "cell_type": "markdown",
      "metadata": {
        "id": "K1IG8LMuHaay",
        "colab_type": "text"
      },
      "source": [
        "### Congratulations! You've created your very own U-Net model architecture!\n",
        "Next, you'll check that you did everything correctly by comparing your model summary to the example model defined below.\n",
        "\n",
        "### Double check your model\n",
        "\n",
        "To double check that you created the correct model, use a function that we've provided to create the same model, and check that the layers and the layer dimensions match!"
      ]
    },
    {
      "cell_type": "code",
      "metadata": {
        "id": "-5vvRRA8Haay",
        "colab_type": "code",
        "colab": {}
      },
      "source": [
        "#import util.py from Week-3 directory\n",
        "import sys\n",
        "sys.path.append('Week-3/')\n",
        "import util"
      ],
      "execution_count": 0,
      "outputs": []
    },
    {
      "cell_type": "code",
      "metadata": {
        "id": "L_-j9_GmHaa1",
        "colab_type": "code",
        "colab": {}
      },
      "source": [
        "# Create a model using a predefined function\n",
        "model_2 = util.unet_model_3d(depth=2,\n",
        "                                loss_function='categorical_crossentropy',\n",
        "                                metrics=['categorical_accuracy'])"
      ],
      "execution_count": 0,
      "outputs": []
    },
    {
      "cell_type": "code",
      "metadata": {
        "scrolled": true,
        "id": "3cByyFVMHaa3",
        "colab_type": "code",
        "outputId": "59de9699-ad85-494b-b7c7-3365d9a6d695",
        "colab": {
          "base_uri": "https://localhost:8080/",
          "height": 782
        }
      },
      "source": [
        "# Print out a summary of the model created by the predefined function\n",
        "model_2.summary()"
      ],
      "execution_count": 0,
      "outputs": [
        {
          "output_type": "stream",
          "text": [
            "Model: \"model_2\"\n",
            "__________________________________________________________________________________________________\n",
            "Layer (type)                    Output Shape         Param #     Connected to                     \n",
            "==================================================================================================\n",
            "input_5 (InputLayer)            (None, 4, 160, 160,  0                                            \n",
            "__________________________________________________________________________________________________\n",
            "conv3d_17 (Conv3D)              (None, 32, 160, 160, 3488        input_5[0][0]                    \n",
            "__________________________________________________________________________________________________\n",
            "activation_10 (Activation)      (None, 32, 160, 160, 0           conv3d_17[0][0]                  \n",
            "__________________________________________________________________________________________________\n",
            "conv3d_18 (Conv3D)              (None, 64, 160, 160, 55360       activation_10[0][0]              \n",
            "__________________________________________________________________________________________________\n",
            "activation_11 (Activation)      (None, 64, 160, 160, 0           conv3d_18[0][0]                  \n",
            "__________________________________________________________________________________________________\n",
            "max_pooling3d_2 (MaxPooling3D)  (None, 64, 80, 80, 8 0           activation_11[0][0]              \n",
            "__________________________________________________________________________________________________\n",
            "conv3d_19 (Conv3D)              (None, 64, 80, 80, 8 110656      max_pooling3d_2[0][0]            \n",
            "__________________________________________________________________________________________________\n",
            "activation_12 (Activation)      (None, 64, 80, 80, 8 0           conv3d_19[0][0]                  \n",
            "__________________________________________________________________________________________________\n",
            "conv3d_20 (Conv3D)              (None, 128, 80, 80,  221312      activation_12[0][0]              \n",
            "__________________________________________________________________________________________________\n",
            "activation_13 (Activation)      (None, 128, 80, 80,  0           conv3d_20[0][0]                  \n",
            "__________________________________________________________________________________________________\n",
            "up_sampling3d_2 (UpSampling3D)  (None, 128, 160, 160 0           activation_13[0][0]              \n",
            "__________________________________________________________________________________________________\n",
            "concatenate_2 (Concatenate)     (None, 192, 160, 160 0           up_sampling3d_2[0][0]            \n",
            "                                                                 activation_11[0][0]              \n",
            "__________________________________________________________________________________________________\n",
            "conv3d_21 (Conv3D)              (None, 64, 160, 160, 331840      concatenate_2[0][0]              \n",
            "__________________________________________________________________________________________________\n",
            "activation_14 (Activation)      (None, 64, 160, 160, 0           conv3d_21[0][0]                  \n",
            "__________________________________________________________________________________________________\n",
            "conv3d_22 (Conv3D)              (None, 64, 160, 160, 110656      activation_14[0][0]              \n",
            "__________________________________________________________________________________________________\n",
            "activation_15 (Activation)      (None, 64, 160, 160, 0           conv3d_22[0][0]                  \n",
            "__________________________________________________________________________________________________\n",
            "conv3d_23 (Conv3D)              (None, 3, 160, 160,  195         activation_15[0][0]              \n",
            "__________________________________________________________________________________________________\n",
            "activation_16 (Activation)      (None, 3, 160, 160,  0           conv3d_23[0][0]                  \n",
            "==================================================================================================\n",
            "Total params: 833,507\n",
            "Trainable params: 833,507\n",
            "Non-trainable params: 0\n",
            "__________________________________________________________________________________________________\n"
          ],
          "name": "stdout"
        }
      ]
    },
    {
      "cell_type": "markdown",
      "metadata": {
        "id": "bnMpvscBHaa6",
        "colab_type": "text"
      },
      "source": [
        "#### Look at the model summary for the U-Net you created and compare it to the summary for the example model created by the predefined function you imported above. "
      ]
    },
    {
      "cell_type": "markdown",
      "metadata": {
        "id": "H31__ptoHaa6",
        "colab_type": "text"
      },
      "source": [
        "#### That's it for this exercise, we hope this have provided you with more insight into the network architecture you'll be working with in this week's assignment!"
      ]
    }
  ]
}